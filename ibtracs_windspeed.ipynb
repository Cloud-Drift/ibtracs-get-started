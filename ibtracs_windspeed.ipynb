{
 "cells": [
  {
   "cell_type": "markdown",
   "metadata": {},
   "source": [
    "# IBTrACS Dataset: Windspeed Visualization\n",
    "\n",
    "This notebook demonstrates how to visualize tropical cyclone windspeed data from the International Best Track Archive for Climate Stewardship (IBTrACS) dataset. The visualization will show cyclone tracks with color intensity representing windspeed.\n",
    "\n",
    "Download and generate the dataset containing only the last 3 years of storm data. Subset the dataset further and only grab the storms with data recorded in the atlantic\n",
    "basin."
   ]
  },
  {
   "cell_type": "code",
   "execution_count": null,
   "metadata": {},
   "outputs": [],
   "source": [
    "import clouddrift as cd\n",
    "\n",
    "ds = cd.ragged.subset(\n",
    "    cd.datasets.ibtracs(\"v04r01\", \"LAST_3_YEARS\", \"/home/ksantana/.clouddrift/tmp\"),\n",
    "    {\n",
    "        \"lat\": (0, 90),\n",
    "        \"lon\": (-95, 0),\n",
    "    },\n",
    "    row_dim_name=\"storm\",\n",
    "    rowsize_var_name=\"numobs\"\n",
    ")\n",
    "ds"
   ]
  },
  {
   "cell_type": "markdown",
   "metadata": {},
   "source": [
    "now create a plot of all storms with their track color-coded by the wind speed. This uses the plot_ragged function from the clouddrift.plotting module. Plot_ragged is a wrapper \n",
    "around plotting functions and is able to handle ragged arrays."
   ]
  },
  {
   "cell_type": "code",
   "execution_count": null,
   "metadata": {},
   "outputs": [],
   "source": [
    "import cartopy.crs as ccrs\n",
    "import matplotlib.pyplot as plt\n",
    "from mpl_toolkits.axes_grid1 import make_axes_locatable\n",
    "\n",
    "\n",
    "_METERS_IN_NAUTICAL_MILES = 1825\n",
    "\n",
    "# Create the visualization\n",
    "fig = plt.figure(figsize=(10, 5))\n",
    "ax = fig.add_subplot(1, 1, 1, projection=ccrs.Mollweide(central_longitude=30))\n",
    "hl = cd.plotting.plot_ragged(\n",
    "    ax,\n",
    "    ds[\"lon\"],\n",
    "    ds[\"lat\"],\n",
    "    ds[\"numobs\"],\n",
    "    colors=ds[\"usa_wind\"].values * _METERS_IN_NAUTICAL_MILES / 3600,\n",
    "    transform=ccrs.PlateCarree(),\n",
    "    cmap=\"inferno\",\n",
    ")\n",
    "ax.set_extent([-120, 0, 0, 80], crs=ccrs.PlateCarree())\n",
    "ax.coastlines()\n",
    "ax.gridlines(draw_labels=True)\n",
    "divider = make_axes_locatable(ax)\n",
    "cax = divider.append_axes('right', size=\"3%\", pad=0.25, axes_class=plt.Axes)\n",
    "fig.colorbar(hl, cax=cax, label=\"m/s\")"
   ]
  }
 ],
 "metadata": {
  "kernelspec": {
   "display_name": "Python 3",
   "language": "python",
   "name": "python3"
  },
  "language_info": {
   "codemirror_mode": {
    "name": "ipython",
    "version": 3
   },
   "file_extension": ".py",
   "mimetype": "text/x-python",
   "name": "python",
   "nbconvert_exporter": "python",
   "pygments_lexer": "ipython3",
   "version": "3.8.0"
  }
 },
 "nbformat": 4,
 "nbformat_minor": 4
}
