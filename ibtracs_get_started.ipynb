{
 "cells": [
  {
   "cell_type": "code",
   "execution_count": 1,
   "metadata": {},
   "outputs": [
    {
     "ename": "ModuleNotFoundError",
     "evalue": "No module named 'clouddrift.clouddrift'",
     "output_type": "error",
     "traceback": [
      "\u001b[0;31m---------------------------------------------------------------------------\u001b[0m",
      "\u001b[0;31mModuleNotFoundError\u001b[0m                       Traceback (most recent call last)",
      "Cell \u001b[0;32mIn[1], line 1\u001b[0m\n\u001b[0;32m----> 1\u001b[0m \u001b[38;5;28;01mimport\u001b[39;00m \u001b[38;5;21;01mclouddrift\u001b[39;00m\u001b[38;5;21;01m.\u001b[39;00m\u001b[38;5;21;01mclouddrift\u001b[39;00m \u001b[38;5;28;01mas\u001b[39;00m \u001b[38;5;21;01mcd\u001b[39;00m\n\u001b[1;32m      3\u001b[0m ds \u001b[38;5;241m=\u001b[39m cd\u001b[38;5;241m.\u001b[39madapters\u001b[38;5;241m.\u001b[39mibtracs\u001b[38;5;241m.\u001b[39mto_raggedarray(\u001b[38;5;124m\"\u001b[39m\u001b[38;5;124mv04r01\u001b[39m\u001b[38;5;124m\"\u001b[39m, \u001b[38;5;124m\"\u001b[39m\u001b[38;5;124mLAST_3_YEARS\u001b[39m\u001b[38;5;124m\"\u001b[39m, \u001b[38;5;124m\"\u001b[39m\u001b[38;5;124m/home/ksantana/.clouddrift/tmp\u001b[39m\u001b[38;5;124m\"\u001b[39m)\n\u001b[1;32m      4\u001b[0m ds\n",
      "\u001b[0;31mModuleNotFoundError\u001b[0m: No module named 'clouddrift.clouddrift'"
     ]
    }
   ],
   "source": [
    "import clouddrift as cd\n",
    "\n",
    "ds = cd.adapters.ibtracs.to_raggedarray(\"v04r01\", \"LAST_3_YEARS\", \"/home/ksantana/.clouddrift/tmp\")\n",
    "ds"
   ]
  },
  {
   "cell_type": "code",
   "execution_count": null,
   "metadata": {},
   "outputs": [],
   "source": [
    "import numpy as np\n",
    "\n",
    "# Select the data for the year 2022 only by using the ragged.subset method\n",
    "year = 2023\n",
    "ds = cd.ragged.subset(\n",
    "    ds,\n",
    "    {\"time\": (np.datetime64(f\"{year}-01-01\"), np.datetime64(f\"{year}-12-31\"))},\n",
    "    row_dim_name=\"storm\",\n",
    "    rowsize_var_name=\"numobs\"\n",
    ")\n",
    "ds"
   ]
  },
  {
   "cell_type": "code",
   "execution_count": null,
   "metadata": {},
   "outputs": [],
   "source": [
    "import cartopy.crs as ccrs\n",
    "import matplotlib.pyplot as plt\n",
    "\n",
    "# make figure\n",
    "fig = plt.figure()\n",
    "ax = fig.add_subplot(1, 1, 1, projection=ccrs.PlateCarree())\n",
    "hl = cd.plotting.plot_ragged(\n",
    "    ax,\n",
    "    ds.lon,\n",
    "    ds.lat,\n",
    "    ds.numobs,\n",
    "    transform=ccrs.PlateCarree(),\n",
    ")\n",
    "ax.set_extent([-150, 0, 5, 70], crs=ccrs.PlateCarree())\n",
    "ax.set_title(f\"Hurricane Season {year}\")\n",
    "ax.coastlines()\n",
    "ax.gridlines(draw_labels=True)"
   ]
  }
 ],
 "metadata": {
  "kernelspec": {
   "display_name": "ibtracs-get-started",
   "language": "python",
   "name": "python3"
  },
  "language_info": {
   "codemirror_mode": {
    "name": "ipython",
    "version": 3
   },
   "file_extension": ".py",
   "mimetype": "text/x-python",
   "name": "python",
   "nbconvert_exporter": "python",
   "pygments_lexer": "ipython3",
   "version": "3.12.7"
  }
 },
 "nbformat": 4,
 "nbformat_minor": 2
}
