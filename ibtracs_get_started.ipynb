{
 "cells": [
  {
   "cell_type": "code",
   "execution_count": null,
   "metadata": {
    "vscode": {
     "languageId": "plaintext"
    }
   },
   "outputs": [],
   "source": [
    "import clouddrift as cd\n",
    "\n",
    "ds = cd.adapters.ibtracs.to_raggedarray(\"v04r01\", \"LAST_3_YEARS\", \"/home/ksantana/.clouddrift/tmp\")\n",
    "ds"
   ]
  },
  {
   "cell_type": "code",
   "execution_count": null,
   "metadata": {
    "vscode": {
     "languageId": "plaintext"
    }
   },
   "outputs": [],
   "source": [
    "import numpy as np\n",
    "\n",
    "# Select the data for the year 2022 only by using the ragged.subset method\n",
    "year = 2023\n",
    "ds = cd.ragged.subset(\n",
    "    ds,\n",
    "    {\"time\": (np.datetime64(f\"{year}-01-01\"), np.datetime64(f\"{year}-12-31\"))},\n",
    "    row_dim_name=\"storm\",\n",
    "    rowsize_var_name=\"numobs\"\n",
    ")\n",
    "ds"
   ]
  },
  {
   "cell_type": "code",
   "execution_count": null,
   "metadata": {
    "vscode": {
     "languageId": "plaintext"
    }
   },
   "outputs": [],
   "source": [
    "import cartopy.crs as ccrs\n",
    "import matplotlib.pyplot as plt\n",
    "\n",
    "# make figure\n",
    "fig = plt.figure()\n",
    "ax = fig.add_subplot(1, 1, 1, projection=ccrs.PlateCarree())\n",
    "hl = cd.plotting.plot_ragged(\n",
    "    ax,\n",
    "    ds.lon,\n",
    "    ds.lat,\n",
    "    ds.numobs,\n",
    "    transform=ccrs.PlateCarree(),\n",
    ")\n",
    "ax.set_extent([-150, 0, 5, 70], crs=ccrs.PlateCarree())\n",
    "ax.set_title(f\"Hurricane Season {year}\")\n",
    "ax.coastlines()\n",
    "ax.gridlines(draw_labels=True)"
   ]
  }
 ],
 "metadata": {
  "language_info": {
   "name": "python"
  }
 },
 "nbformat": 4,
 "nbformat_minor": 2
}
